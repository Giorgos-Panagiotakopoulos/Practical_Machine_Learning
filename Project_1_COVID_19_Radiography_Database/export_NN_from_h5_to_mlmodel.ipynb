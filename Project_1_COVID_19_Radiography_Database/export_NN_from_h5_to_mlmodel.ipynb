{
  "nbformat": 4,
  "nbformat_minor": 0,
  "metadata": {
    "colab": {
      "name": "export_NN_from_h5_to_mlmodel.ipynb",
      "provenance": [],
      "collapsed_sections": []
    },
    "kernelspec": {
      "name": "python3",
      "display_name": "Python 3"
    },
    "language_info": {
      "name": "python"
    }
  },
  "cells": [
    {
      "cell_type": "markdown",
      "metadata": {
        "id": "ijCU6GMXf0m3"
      },
      "source": [
        "# Convert h5 model to mlmodel\n",
        "\n",
        "We need this conversion in order to pass our model to apple framework CoreML\n",
        "\n",
        "source:\n",
        "https://heartbeat.fritz.ai/using-coremltools-to-convert-a-keras-model-to-core-ml-for-ios-d4a0894d4aba\n",
        "\n",
        "\n",
        "##First steps\n",
        "\n",
        "\n",
        "1.   Import coereml tools using pip\n",
        "2.   mount google drive in order to load models\n",
        "\n"
      ]
    },
    {
      "cell_type": "code",
      "metadata": {
        "colab": {
          "base_uri": "https://localhost:8080/"
        },
        "id": "qgoZHFr2XF0U",
        "outputId": "0a4176ac-7233-445a-96a8-21f7f26b4396"
      },
      "source": [
        "!pip install coremltools"
      ],
      "execution_count": null,
      "outputs": [
        {
          "output_type": "stream",
          "text": [
            "Requirement already satisfied: coremltools in /usr/local/lib/python3.7/dist-packages (4.1)\n",
            "Requirement already satisfied: attrs in /usr/local/lib/python3.7/dist-packages (from coremltools) (21.2.0)\n",
            "Requirement already satisfied: attr in /usr/local/lib/python3.7/dist-packages (from coremltools) (0.3.1)\n",
            "Requirement already satisfied: six>=1.10.0 in /usr/local/lib/python3.7/dist-packages (from coremltools) (1.15.0)\n",
            "Requirement already satisfied: protobuf>=3.1.0 in /usr/local/lib/python3.7/dist-packages (from coremltools) (3.17.3)\n",
            "Requirement already satisfied: sympy in /usr/local/lib/python3.7/dist-packages (from coremltools) (1.7.1)\n",
            "Requirement already satisfied: tqdm in /usr/local/lib/python3.7/dist-packages (from coremltools) (4.41.1)\n",
            "Requirement already satisfied: packaging in /usr/local/lib/python3.7/dist-packages (from coremltools) (20.9)\n",
            "Requirement already satisfied: scipy in /usr/local/lib/python3.7/dist-packages (from coremltools) (1.4.1)\n",
            "Requirement already satisfied: numpy<1.20,>=1.14.5 in /usr/local/lib/python3.7/dist-packages (from coremltools) (1.19.5)\n",
            "Requirement already satisfied: mpmath>=0.19 in /usr/local/lib/python3.7/dist-packages (from sympy->coremltools) (1.2.1)\n",
            "Requirement already satisfied: pyparsing>=2.0.2 in /usr/local/lib/python3.7/dist-packages (from packaging->coremltools) (2.4.7)\n"
          ],
          "name": "stdout"
        }
      ]
    },
    {
      "cell_type": "code",
      "metadata": {
        "colab": {
          "base_uri": "https://localhost:8080/"
        },
        "id": "s99YIQBjgmLh",
        "outputId": "9f0f92fb-0b9a-44c0-befa-b113796d3385"
      },
      "source": [
        "from google.colab import drive\n",
        "drive.mount('/content/drive')"
      ],
      "execution_count": null,
      "outputs": [
        {
          "output_type": "stream",
          "text": [
            "Mounted at /content/drive\n"
          ],
          "name": "stdout"
        }
      ]
    },
    {
      "cell_type": "markdown",
      "metadata": {
        "id": "3118ANq_gwLS"
      },
      "source": [
        "## Imports"
      ]
    },
    {
      "cell_type": "code",
      "metadata": {
        "id": "wtGXVRLVgv7U",
        "colab": {
          "base_uri": "https://localhost:8080/"
        },
        "outputId": "0e47bf3a-aa83-4edb-87b1-436d2fa19f22"
      },
      "source": [
        "import os\n",
        "import numpy as np\n",
        "import tensorflow as tf\n",
        "from tensorflow import keras\n",
        "from keras.models import load_model\n",
        "import coremltools as ct\n",
        "from sklearn.model_selection import train_test_split"
      ],
      "execution_count": null,
      "outputs": [
        {
          "output_type": "stream",
          "text": [
            "WARNING:root:scikit-learn version 0.22.2.post1 is not supported. Minimum required version: 0.17. Maximum required version: 0.19.2. Disabling scikit-learn conversion API.\n",
            "WARNING:root:TensorFlow version 2.5.0 detected. Last version known to be fully compatible is 2.3.1 .\n",
            "WARNING:root:Keras version 2.5.0 detected. Last version known to be fully compatible of Keras is 2.2.4 .\n"
          ],
          "name": "stderr"
        }
      ]
    },
    {
      "cell_type": "markdown",
      "metadata": {
        "id": "ZulCRsr1g2N4"
      },
      "source": [
        "## Load the .h5 model from drive\n",
        "\n",
        "- Declare the output labels. In Covid_19 radiography case we have only 4 classes\n",
        "    1.   COVID -> 0\n",
        "    2.   Lung_Opacity -> 1\n",
        "    3.   Normal -> 2\n",
        "    4.   Viral Pneumonia -> 3\n",
        "\n",
        "\n",
        "- load and cover model using coremltools.converters for keras "
      ]
    },
    {
      "cell_type": "code",
      "metadata": {
        "id": "9PlMie7Lg2kp"
      },
      "source": [
        "models_dir_path = \"/content/drive/MyDrive/datasets/practical_ml/tensorFlow_models\"\n",
        "CORE_ML_MODELS_PATH = \"/content/drive/MyDrive/datasets/practical_ml/coreML_models\"\n",
        "target_models = [\"MobileNetV2\", \"DenseNet169\", \"VGG16\"]\n",
        "output_labels = ['0', '1', '2', '3']\n"
      ],
      "execution_count": null,
      "outputs": []
    },
    {
      "cell_type": "code",
      "metadata": {
        "id": "OabaLgUtMtLL"
      },
      "source": [
        "def signCoreModel(core_model):\n",
        "  core_model.author = 'Athanasios Kottaridis'\n",
        "  core_model.short_description = 'Pre trained MobileNerV2 NN for classifing lung Radiographies'\n",
        "  # core_model.input_description['image'] = 'Takes as input a Radiography Image'\n",
        "  # core_model.output_description['output'] = \"Radiography Class\"\n",
        "\n",
        "  return core_model\n"
      ],
      "execution_count": null,
      "outputs": []
    },
    {
      "cell_type": "code",
      "metadata": {
        "colab": {
          "base_uri": "https://localhost:8080/"
        },
        "id": "7AnrR7Sa-iB0",
        "outputId": "8325d2dd-d4b5-4ee8-f426-67f5bfc84ab5"
      },
      "source": [
        "for model_name in target_models: \n",
        "  model_path = models_dir_path + \"/\" + model_name + \".h5\"\n",
        "  # Load model from path\n",
        "  model = keras.models.load_model(model_path)\n",
        "  # config classifier\n",
        "  classifier_config = ct.ClassifierConfig(output_labels)\n",
        "  # Convert to Core ML\n",
        "  core_model = ct.convert(model, inputs=[ct.ImageType()], classifier_config=classifier_config)\n",
        "  #sign model\n",
        "  core_model = signCoreModel(core_model)\n",
        "  # Store Model\n",
        "  core_model.save('{}/{}.mlmodel'.format(CORE_ML_MODELS_PATH,model_name))\n",
        "\n",
        " "
      ],
      "execution_count": null,
      "outputs": [
        {
          "output_type": "stream",
          "text": [
            "Running TensorFlow Graph Passes: 100%|██████████| 5/5 [00:03<00:00,  1.49 passes/s]\n",
            "Converting Frontend ==> MIL Ops: 100%|██████████| 436/436 [00:01<00:00, 348.87 ops/s]\n",
            "Running MIL optimization passes: 100%|██████████| 18/18 [00:01<00:00, 15.60 passes/s]\n",
            "Translating MIL ==> MLModel Ops: 100%|██████████| 754/754 [00:05<00:00, 137.71 ops/s] \n",
            "Running TensorFlow Graph Passes: 100%|██████████| 5/5 [00:04<00:00,  1.05 passes/s]\n",
            "Converting Frontend ==> MIL Ops: 100%|██████████| 1541/1541 [00:11<00:00, 134.15 ops/s]\n",
            "Running MIL optimization passes: 100%|██████████| 18/18 [00:09<00:00,  1.94 passes/s]\n",
            "Translating MIL ==> MLModel Ops: 100%|██████████| 2653/2653 [00:07<00:00, 336.42 ops/s]\n",
            "Running TensorFlow Graph Passes: 100%|██████████| 5/5 [00:02<00:00,  2.05 passes/s]\n",
            "Converting Frontend ==> MIL Ops: 100%|██████████| 89/89 [00:00<00:00, 527.73 ops/s]\n",
            "Running MIL optimization passes: 100%|██████████| 18/18 [00:00<00:00, 54.60 passes/s]\n",
            "Translating MIL ==> MLModel Ops: 100%|██████████| 159/159 [00:04<00:00, 38.92 ops/s]\n"
          ],
          "name": "stderr"
        }
      ]
    },
    {
      "cell_type": "code",
      "metadata": {
        "colab": {
          "base_uri": "https://localhost:8080/"
        },
        "id": "xcKoAmOpE5xa",
        "outputId": "94e96583-1d21-415f-ac9c-f2a2efd4fa5a"
      },
      "source": [
        "model.summary()\n",
        "# data = np.random.rand(1, 299, 299, 3)\n",
        "# y_prob = model.predict_class(data) \n",
        "# y_prob\n",
        "# y_classes = y_prob.argmax(axis=-1)\n",
        "# y_classes \n",
        "# model.predict_classes"
      ],
      "execution_count": null,
      "outputs": [
        {
          "output_type": "stream",
          "text": [
            "Model: \"sequential_7\"\n",
            "_________________________________________________________________\n",
            "Layer (type)                 Output Shape              Param #   \n",
            "=================================================================\n",
            "vgg16 (Functional)           (None, 9, 9, 512)         14714688  \n",
            "_________________________________________________________________\n",
            "flatten_6 (Flatten)          (None, 41472)             0         \n",
            "_________________________________________________________________\n",
            "dense_18 (Dense)             (None, 256)               10617088  \n",
            "_________________________________________________________________\n",
            "dense_19 (Dense)             (None, 256)               65792     \n",
            "_________________________________________________________________\n",
            "dense_20 (Dense)             (None, 4)                 1028      \n",
            "=================================================================\n",
            "Total params: 25,398,596\n",
            "Trainable params: 10,683,908\n",
            "Non-trainable params: 14,714,688\n",
            "_________________________________________________________________\n"
          ],
          "name": "stdout"
        }
      ]
    }
  ]
}